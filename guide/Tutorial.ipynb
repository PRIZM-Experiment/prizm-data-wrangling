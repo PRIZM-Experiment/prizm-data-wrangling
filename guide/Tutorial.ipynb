{
 "cells": [
  {
   "cell_type": "markdown",
   "id": "responsible-ranch",
   "metadata": {},
   "source": [
    "# PRIZM Data Wrangling Tutorial\n"
   ]
  },
  {
   "cell_type": "markdown",
   "id": "abandoned-nudist",
   "metadata": {},
   "source": [
    "## PRIZM Metadatabase\n",
    "\n",
    "This section demonstrates the basic functionalities of the PRIZM metadatabase, i.e., the retrieval of metadata, and data loading. We begin by importing the metadatabase module under the `mdb` alias."
   ]
  },
  {
   "cell_type": "code",
   "execution_count": 4,
   "id": "historic-picnic",
   "metadata": {},
   "outputs": [],
   "source": [
    "import metadatabase as mdb"
   ]
  },
  {
   "cell_type": "markdown",
   "id": "residential-immune",
   "metadata": {},
   "source": [
    "### Retrieving Metadata\n",
    "\n",
    "SQLite queries can be executed against the metadatabase using the `execute` function. For instance, the following construction can be used to retrieve the model number and description of every hardware component listed in the PRIZM metadatabase."
   ]
  },
  {
   "cell_type": "code",
   "execution_count": null,
   "id": "fantastic-willow",
   "metadata": {},
   "outputs": [],
   "source": [
    "mdb.execute(\"SELECT component_model, component_description FROM HardwareComponents\")"
   ]
  },
  {
   "cell_type": "markdown",
   "id": "opposed-netscape",
   "metadata": {},
   "source": [
    "As an example of a more complex query, the directory addresses and file names associated with the east-west polarization data gathered by the 100MHz PRIZM antenna during the first half of 2018 can be retrieved in chronological order as follows."
   ]
  },
  {
   "cell_type": "code",
   "execution_count": null,
   "id": "dated-supervision",
   "metadata": {
    "scrolled": true
   },
   "outputs": [],
   "source": [
    "mdb.execute((\"SELECT DataDirectories.directory_address, DataTypes.file_name \"\n",
    "             \"FROM   DataDirectories \"\n",
    "             \"JOIN   DataCategories \"\n",
    "             \"ON     DataDirectories.data_category = DataCategories.data_category \"\n",
    "             \"AND    DataCategories.category_name = 'Antenna' \"\n",
    "             \"JOIN   DataFiles \"\n",
    "             \"ON     DataDirectories.data_directory = DataFiles.data_directory \"\n",
    "             \"AND    DataDirectories.time_start <= strftime('%s','2018-07-01 00:00:00') \"\n",
    "             \"AND    DataDirectories.time_stop >= strftime('%s','2018-01-01 00:00:00') \"\n",
    "             \"JOIN   DataTypes \"\n",
    "             \"ON     DataFiles.data_file = DataTypes.data_file \"\n",
    "             \"JOIN   ChannelGroups \"\n",
    "             \"ON     DataFiles.channel_group = ChannelGroups.channel_group \"\n",
    "             \"JOIN   ChannelOrientations \"\n",
    "             \"ON     ChannelOrientations.channel_orientation = ChannelGroups.channel_orientation \"\n",
    "             \"AND    ChannelOrientations.orientation_name = 'EW' \"\n",
    "             \"JOIN   ArrayElements \"\n",
    "             \"ON     ArrayElements.array_element = ChannelGroups.array_element \"\n",
    "             \"AND    ArrayElements.element_name = '100MHz' \"\n",
    "             \"ORDER  BY DataDirectories.time_start \"))"
   ]
  },
  {
   "cell_type": "markdown",
   "id": "anonymous-adams",
   "metadata": {},
   "source": [
    "### Loading Data\n",
    "\n",
    "PRIZM data can be loaded through the metadatabase using the `load` function. This function receives lists as arguments, and returns a dictionary containing the data matching all combinations of these input lists' elements. This is illustrated below, where absolutely all data collected around April 22–23, 2018 is loaded."
   ]
  },
  {
   "cell_type": "code",
   "execution_count": null,
   "id": "printable-smooth",
   "metadata": {},
   "outputs": [],
   "source": [
    "mdb.load(categories=['Antenna', 'Switch'],\n",
    "         instruments=['100MHz'],\n",
    "         channels=['EW'],\n",
    "         intervals=[(1524400000.0,1524500000.0),],\n",
    "         quality=[1],\n",
    "         integrity=[1],\n",
    "         completeness=[1])"
   ]
  },
  {
   "cell_type": "markdown",
   "id": "right-computer",
   "metadata": {},
   "source": [
    "Alternatively, curated data selections suitable for specific analyses can be loaded through the metadatabase by referencing certain pickle files, such as those available under this repository's `../selections` subdirectory. As demonstrated below, the pickle file `../selections/2018_100MHz_EW.p` can be referenced to load all the good-quality east-west polarization data gathered by the 100MHz antenna in 2018."
   ]
  },
  {
   "cell_type": "code",
   "execution_count": 35,
   "id": "skilled-enzyme",
   "metadata": {},
   "outputs": [],
   "source": [
    "data = mdb.load(selection=mdb._path + '/selections/2018_100MHz_EW.p')"
   ]
  },
  {
   "cell_type": "markdown",
   "id": "burning-battlefield",
   "metadata": {},
   "source": [
    "The data is returned in the form of NumPy arrays and organized in a nested dictionary structure. The key hierarchy in the resulting dictionary is shown below for the curated data selection loaded above – a similar hierarchy results when data associated with different categories, instruments, or channels are loaded.\n",
    "\n",
    "```python\n",
    "{\n",
    "    '100MHz':\n",
    "    {\n",
    "        'EW':\n",
    "        {\n",
    "            'time_sys_start': numpy.ndarray,\n",
    "            'time_sys_stop': numpy.ndarray,\n",
    "            'pol': numpy.ndarray,\n",
    "        },\n",
    "    },\n",
    "\n",
    "    'Switch'\n",
    "    {\n",
    "        'antenna': numpy.ndarray,\n",
    "        'res100': numpy.ndarray,\n",
    "        'res50': numpy.ndarray,\n",
    "        'short': numpy.ndarray,\n",
    "        'noise': numpy.ndarray,\n",
    "    },\n",
    "}\n",
    "```\n",
    "\n",
    "In general, the data associated with both polarization channels are listed directly under their respective category or instrument key, as illustrated by the `antenna`, `res100`, `res50`, `short`, and `noise` entries listed under the `Switch` key. In contrast, the data associated with a particular polarization channel are listed under the appropriate channel key, as examplified by the `time_sys_start`, `time_sys_stop`, and `pol` entries under both the `100MHz` and `EW` keys."
   ]
  },
  {
   "cell_type": "markdown",
   "id": "dietary-stuart",
   "metadata": {},
   "source": [
    "## PRIZM Data Manipulation\n",
    "\n",
    "..."
   ]
  },
  {
   "cell_type": "code",
   "execution_count": 31,
   "id": "cardiovascular-chuck",
   "metadata": {},
   "outputs": [],
   "source": [
    "import data as d\n",
    "import matplotlib.pyplot as plt"
   ]
  }
 ],
 "metadata": {
  "kernelspec": {
   "display_name": "Python 3",
   "language": "python",
   "name": "python3"
  },
  "language_info": {
   "codemirror_mode": {
    "name": "ipython",
    "version": 3
   },
   "file_extension": ".py",
   "mimetype": "text/x-python",
   "name": "python",
   "nbconvert_exporter": "python",
   "pygments_lexer": "ipython3",
   "version": "3.9.1"
  }
 },
 "nbformat": 4,
 "nbformat_minor": 5
}
