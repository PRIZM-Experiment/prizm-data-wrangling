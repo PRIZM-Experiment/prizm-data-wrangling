{
 "cells": [
  {
   "cell_type": "markdown",
   "id": "responsible-ranch",
   "metadata": {},
   "source": [
    "# PRIZM Data Wrangling Tutorial\n"
   ]
  },
  {
   "cell_type": "markdown",
   "id": "affecting-halifax",
   "metadata": {},
   "source": [
    "Required standard modules:"
   ]
  },
  {
   "cell_type": "code",
   "execution_count": 4,
   "id": "going-bible",
   "metadata": {},
   "outputs": [],
   "source": [
    "import numpy as np\n",
    "import matplotlib.pyplot as plt"
   ]
  },
  {
   "cell_type": "markdown",
   "id": "abandoned-nudist",
   "metadata": {},
   "source": [
    "## PRIZM Metadatabase\n",
    "\n",
    "This section demonstrates the basic functionalities of the PRIZM metadatabase. We begin by importing the metadatabase module under the `mdb` alias."
   ]
  },
  {
   "cell_type": "code",
   "execution_count": 4,
   "id": "historic-picnic",
   "metadata": {},
   "outputs": [],
   "source": [
    "import metadatabase as mdb"
   ]
  },
  {
   "cell_type": "markdown",
   "id": "residential-immune",
   "metadata": {},
   "source": [
    "### Retrieving Metadata\n",
    "\n",
    "SQLite queries can be executed against the metadatabase using the `execute` function. For instance, the following construction can be used to retrieve the model number and description of every hardware component listed in the PRIZM metadatabase."
   ]
  },
  {
   "cell_type": "code",
   "execution_count": null,
   "id": "fantastic-willow",
   "metadata": {},
   "outputs": [],
   "source": [
    "mdb.execute(\"SELECT component_model, component_description FROM HardwareComponents\")"
   ]
  },
  {
   "cell_type": "markdown",
   "id": "opposed-netscape",
   "metadata": {},
   "source": [
    "As an example of a more complex query, the directory addresses and file names associated with the east-west polarization data gathered by the 100MHz PRIZM antenna during the first half of 2018 can be retrieved in chronological order as follows."
   ]
  },
  {
   "cell_type": "code",
   "execution_count": null,
   "id": "dated-supervision",
   "metadata": {
    "scrolled": true
   },
   "outputs": [],
   "source": [
    "mdb.execute((\"SELECT DataDirectories.directory_address, DataTypes.file_name \"\n",
    "             \"FROM   DataDirectories \"\n",
    "             \"JOIN   DataCategories \"\n",
    "             \"ON     DataDirectories.data_category = DataCategories.data_category \"\n",
    "             \"AND    DataCategories.category_name = 'Antenna' \"\n",
    "             \"JOIN   DataFiles \"\n",
    "             \"ON     DataDirectories.data_directory = DataFiles.data_directory \"\n",
    "             \"AND    DataDirectories.time_start <= strftime('%s','2018-07-01 00:00:00') \"\n",
    "             \"AND    DataDirectories.time_stop >= strftime('%s','2018-01-01 00:00:00') \"\n",
    "             \"JOIN   DataTypes \"\n",
    "             \"ON     DataFiles.data_file = DataTypes.data_file \"\n",
    "             \"JOIN   ChannelGroups \"\n",
    "             \"ON     DataFiles.channel_group = ChannelGroups.channel_group \"\n",
    "             \"JOIN   ChannelOrientations \"\n",
    "             \"ON     ChannelOrientations.channel_orientation = ChannelGroups.channel_orientation \"\n",
    "             \"AND    ChannelOrientations.orientation_name = 'EW' \"\n",
    "             \"JOIN   ArrayElements \"\n",
    "             \"ON     ArrayElements.array_element = ChannelGroups.array_element \"\n",
    "             \"AND    ArrayElements.element_name = '100MHz' \"\n",
    "             \"ORDER  BY DataDirectories.time_start \"))"
   ]
  },
  {
   "cell_type": "markdown",
   "id": "solid-guide",
   "metadata": {},
   "source": [
    "## PRIZM Data Container\n",
    "\n",
    "This section demonstrates the basic functionalities of the PRIZM data container. We begin by importing the container object as follows."
   ]
  },
  {
   "cell_type": "code",
   "execution_count": 2,
   "id": "eleven-gazette",
   "metadata": {},
   "outputs": [],
   "source": [
    "from data import Data"
   ]
  },
  {
   "cell_type": "markdown",
   "id": "anonymous-adams",
   "metadata": {},
   "source": [
    "### Loading Data via the Metadatabase\n",
    "\n",
    "PRIZM data can be loaded through the metadatabase using the data container's `via_metadatabase` constructor. This function receives lists as arguments, and returns a data container holding the data matching all combinations of these input lists' elements. This is illustrated below, where absolutely all data collected around April 22–23, 2018 is loaded."
   ]
  },
  {
   "cell_type": "code",
   "execution_count": null,
   "id": "printable-smooth",
   "metadata": {},
   "outputs": [],
   "source": [
    "data = Data.via_metadatabase(categories=['Antenna', 'Switch', 'Temperature'],\n",
    "                             instruments=['100MHz', '70MHz'],\n",
    "                             channels=['EW', 'NS'],\n",
    "                             intervals=[(1524400000.0,1524500000.0),],\n",
    "                             quality=[1, 0, 'NULL'],\n",
    "                             integrity=[1, 0, 'NULL'],\n",
    "                             completeness=[1, 0, 'NULL'])"
   ]
  },
  {
   "cell_type": "markdown",
   "id": "right-computer",
   "metadata": {},
   "source": [
    "Alternatively, curated data selections suitable for specific analyses can be loaded through the metadatabase by referencing certain pickle files, such as those available under this repository's `../selections` subdirectory. As demonstrated below, the pickle file `../selections/2018_100MHz_EW.p` can be referenced to load all the good-quality east-west polarization data gathered by the 100MHz antenna in 2018."
   ]
  },
  {
   "cell_type": "code",
   "execution_count": 35,
   "id": "skilled-enzyme",
   "metadata": {},
   "outputs": [],
   "source": [
    "data = Data.via_metadatabase(selection='./selections/2018_100MHz_EW.p')"
   ]
  },
  {
   "cell_type": "markdown",
   "id": "existing-plaza",
   "metadata": {},
   "source": [
    "### Loading Data from Directories\n",
    "\n",
    "PRIZM data can be loaded directly from a list of directories using the data container's `from_directories` constructor. Because this approach does not make use of the metadatabase, it requires a substantial amount of additional information as inputs in order to make sense of the file and directory structure the data will be read from. User-defined catalogues are used for that purpose. Below an example of such catalogues is shown."
   ]
  },
  {
   "cell_type": "code",
   "execution_count": 1,
   "id": "dated-madagascar",
   "metadata": {},
   "outputs": [],
   "source": [
    "classification_catalogue = {\n",
    "    'data_70MHz': '70MHz',\n",
    "    'data_100MHz': '100MHz',\n",
    "}\n",
    "\n",
    "file_catalogue = {\n",
    "    'pol0.scio': ('float',['EW'],'pol'),\n",
    "    'pol0.scio.bz2': ('float',['EW'],'pol'),\n",
    "    'pol1.scio': ('float',['NS'],'pol'),\n",
    "    'pol1.scio.bz2': ('float',['NS'],'pol'),\n",
    "    'time_sys_stop.raw': ('float',['EW','NS'],'time_sys_stop'),\n",
    "    'time_sys_start.raw': ('float',['EW','NS'],'time_sys_start'),\n",
    "    'open.scio': ('float',['Switch'],'open'),\n",
    "    'short.scio': ('float',['Switch'],'short'),\n",
    "    'res50.scio': ('float',['Switch'],'res50'),\n",
    "    'res100.scio': ('float',['Switch'],'res100'),\n",
    "    'antenna.scio': ('float',['Switch'],'antenna'),\n",
    "    'open.scio.bz2': ('float',['Switch'],'open'),\n",
    "    'short.scio.bz2': ('float',['Switch'],'short'),\n",
    "    'res50.scio.bz2': ('float',['Switch'],'res50'),\n",
    "    'res100.scio.bz2': ('float',['Switch'],'res100'),\n",
    "    'antenna.scio.bz2': ('float',['Switch'],'antenna'),\n",
    "}"
   ]
  },
  {
   "cell_type": "markdown",
   "id": "burning-battlefield",
   "metadata": {},
   "source": [
    "While the `classification_catalogue` connects parent directory names to the primary data container keys, the `file_catalogue` lists every file of interest along with its respective data type, container hierarchy keys, and container entry name. Notice, however, that the above examples are neither definitive nor exhaustive, and would need to be manually edited to accommodate additional data, different file names, and/or different parent directory names.\n",
    "\n",
    "In addition to the above catalogues, the `from_directories` constructor also receives a list of directory addresses as an argument, and returns a data container holding the data matching all cataloged files found within every subdirectory of the input directory addresses. This is illustrated below, where some of the data collected by the 100MHz instrument around October 21–22, 2021 is loaded."
   ]
  },
  {
   "cell_type": "code",
   "execution_count": null,
   "id": "registered-excuse",
   "metadata": {},
   "outputs": [],
   "source": [
    "data = Data.from_directories(directory_addresses=['/project/s/sievers/prizm/marion2022/prizm-100/data_100MHz/16348',\n",
    "                                                  '/project/s/sievers/prizm/marion2022/prizm-100/data_100MHz/switch/16348'],\n",
    "                             classification_catalogue=classification_catalogue,\n",
    "                             file_catalogue=file_catalogue)"
   ]
  },
  {
   "cell_type": "markdown",
   "id": "bearing-atlas",
   "metadata": {},
   "source": [
    "### Data Manipulation\n",
    "\n",
    "The PRIZM data container organizes the loaded data in a nested dictionary structure, with each data entry being stored as a `numpy.ndarray`.\n",
    "```python\n",
    "{\n",
    "    '100MHz':\n",
    "    {\n",
    "        'EW':\n",
    "        {\n",
    "            'pol': numpy.ndarray,\n",
    "            'time_sys_start': numpy.ndarray,\n",
    "            ...\n",
    "        },\n",
    "\n",
    "        'NS':\n",
    "        {\n",
    "            'pol': numpy.ndarray,\n",
    "            'time_sys_start': numpy.ndarray,\n",
    "            ...\n",
    "        },\n",
    "\n",
    "        'Switch':\n",
    "        {\n",
    "            'antenna': numpy.ndarray,\n",
    "            'short': numpy.ndarray,\n",
    "            ...\n",
    "        },\n",
    "\n",
    "        'Housekeeping':\n",
    "        {\n",
    "            'cross_real': numpy.ndarray,\n",
    "            'temp_100_ambient': numpy.ndarray,\n",
    "            ...\n",
    "        },\n",
    "\n",
    "    '70MHz':\n",
    "    {\n",
    "        ...\n",
    "    }\n",
    "}\n",
    "```\n",
    "The container's primary keys, `100MHz` and `70MHz`, refer to the two PRIZM instruments. The data associated with a particular polarization channel are listed under the appropriate channel key, as examplified by the `pol` and `time_sys_start` entries under both the `EW` and `NS` keys. Meanwhile, the data describing the instrument's switching cadence are listed under the `Switch` key, as illustrated above by the `antenna` and `short` entries. Any remaining data are listed under the `Housekeeping` key, as shown by the `cross_real` and `temp_100_ambient` entries.\n",
    "\n",
    "\n",
    "#### Accessing Data\n",
    "\n",
    "Each entry of the data container can be accessed as in a Python dictionary. A few examples are listed below."
   ]
  },
  {
   "cell_type": "code",
   "execution_count": null,
   "id": "perceived-documentary",
   "metadata": {},
   "outputs": [],
   "source": [
    "data['100MHz']['EW']['pol']"
   ]
  },
  {
   "cell_type": "code",
   "execution_count": null,
   "id": "legendary-brand",
   "metadata": {},
   "outputs": [],
   "source": [
    "data['100MHz']['EW']['time_sys_start']"
   ]
  },
  {
   "cell_type": "code",
   "execution_count": null,
   "id": "forty-education",
   "metadata": {},
   "outputs": [],
   "source": [
    "data['100MHz']['Switch']['antenna']"
   ]
  },
  {
   "cell_type": "markdown",
   "id": "large-proceeding",
   "metadata": {},
   "source": [
    "#### Computing LST\n",
    "\n",
    "The `lst` method produces local sidereal time entries from the data's UTC Unix timestamps. These entries are stored as `lst_sys_start` and `lst_sys_stop` under the instrument and channel keys provided by the user."
   ]
  },
  {
   "cell_type": "code",
   "execution_count": null,
   "id": "expensive-radical",
   "metadata": {},
   "outputs": [],
   "source": [
    "data.lst(instruments=['100MHz'], channels=['EW', 'NS'])"
   ]
  },
  {
   "cell_type": "code",
   "execution_count": null,
   "id": "complimentary-laser",
   "metadata": {},
   "outputs": [],
   "source": [
    "data['100MHz']['EW']['lst_sys_start']"
   ]
  },
  {
   "cell_type": "code",
   "execution_count": null,
   "id": "occupied-saying",
   "metadata": {},
   "outputs": [],
   "source": [
    "data['100MHz']['EW']['lst_sys_stop']"
   ]
  },
  {
   "cell_type": "code",
   "execution_count": null,
   "id": "decent-grade",
   "metadata": {},
   "outputs": [],
   "source": [
    "data['100MHz']['NS']['lst_sys_start']"
   ]
  },
  {
   "cell_type": "code",
   "execution_count": null,
   "id": "overall-walnut",
   "metadata": {},
   "outputs": [],
   "source": [
    "data['100MHz']['NS']['lst_sys_stop']"
   ]
  },
  {
   "cell_type": "markdown",
   "id": "super-diamond",
   "metadata": {},
   "source": [
    "#### Data Partitioning\n",
    "\n",
    "Because each PRIZM instrument regularly switches between performing sky observations and measuring the signal strength of its internal calibration sources, partitioning the data according to this switching cadence becomes an important aspect of data manipulation. Such partitions can be automatically generated with the `partition` method, as demonstrated below. The resulting partitions are stored under the instrument and channel keys provided by the user."
   ]
  },
  {
   "cell_type": "code",
   "execution_count": null,
   "id": "incomplete-radio",
   "metadata": {},
   "outputs": [],
   "source": [
    "data.partition(instruments=['100MHz'], channels=['EW', 'NS'], buffer=(1,1))"
   ]
  },
  {
   "cell_type": "code",
   "execution_count": null,
   "id": "concerned-consistency",
   "metadata": {},
   "outputs": [],
   "source": [
    "data['100MHz']['EW']['Partitions']"
   ]
  },
  {
   "cell_type": "code",
   "execution_count": null,
   "id": "approved-flavor",
   "metadata": {},
   "outputs": [],
   "source": [
    "data['100MHz']['NS']['Partitions']"
   ]
  },
  {
   "cell_type": "markdown",
   "id": "enabling-terry",
   "metadata": {},
   "source": [
    "#### Data Slicing\n",
    "\n",
    "The `get` method can used to extract data associated with a specific partition. As an example, the sky observations and timestamps associated with the east-west channel of the 100MHz antenna can be extracted as follows."
   ]
  },
  {
   "cell_type": "code",
   "execution_count": null,
   "id": "suspended-pitch",
   "metadata": {},
   "outputs": [],
   "source": [
    "data.get(data='pol', instrument='100MHz', channel='EW', partition='antenna')"
   ]
  },
  {
   "cell_type": "code",
   "execution_count": null,
   "id": "exceptional-athletics",
   "metadata": {},
   "outputs": [],
   "source": [
    "data.get(data='time_sys_start', instrument='100MHz', channel='EW', partition='antenna')"
   ]
  },
  {
   "cell_type": "markdown",
   "id": "right-broadway",
   "metadata": {},
   "source": [
    "#### Spectra Interpolation\n",
    "\n",
    "Spectra associated with a specific data partition can also be extrapolated through linear interpolation with the help of the `interpolate` method. This is illustrated below, where the spectra of a calibrator interpolated for times at which the instrument was actually observing the sky."
   ]
  },
  {
   "cell_type": "code",
   "execution_count": null,
   "id": "western-pollution",
   "metadata": {},
   "outputs": [],
   "source": [
    "data.interpolate([...,...], instrument='100MHz', channel='EW', partition='short', threshold=500)"
   ]
  },
  {
   "cell_type": "markdown",
   "id": "distinct-venice",
   "metadata": {},
   "source": [
    "### Data Visualization"
   ]
  },
  {
   "cell_type": "markdown",
   "id": "polar-plenty",
   "metadata": {},
   "source": [
    "*Under Construction*"
   ]
  },
  {
   "cell_type": "code",
   "execution_count": null,
   "id": "aggregate-fundamental",
   "metadata": {},
   "outputs": [],
   "source": [
    "plt.figure(1, figsize=(10,5))\n",
    "plt.plot(data['100MHz']['EW']['lst_sys_start'])"
   ]
  },
  {
   "cell_type": "code",
   "execution_count": null,
   "id": "light-motion",
   "metadata": {},
   "outputs": [],
   "source": [
    "plt.figure(2, figsize=(15,15))\n",
    "plt.imshow(np.log10(data.get(data='pol', instrument='100MHz', channel='EW', partition='antenna')),\n",
    "           vmin=4.5, vmax=8.5, aspect=1)"
   ]
  },
  {
   "cell_type": "code",
   "execution_count": null,
   "id": "executed-copper",
   "metadata": {},
   "outputs": [],
   "source": [
    "plt.figure(3, figsize=(10,5))\n",
    "plt.plot(np.log10(data.get(data='pol', instrument='100MHz', channel='EW', partition='antenna'))[0,:],\n",
    "         color='black', label='antenna')\n",
    "plt.plot(np.log10(data.get(data='pol', instrument='100MHz', channel='EW', partition='short'))[0,:],\n",
    "         color='blue', label='short')\n",
    "plt.plot(np.log10(data.get(data='pol', instrument='100MHz', channel='EW', partition='noise'))[0,:],\n",
    "         color='orange', label='noise')\n",
    "plt.legend()"
   ]
  }
 ],
 "metadata": {
  "kernelspec": {
   "display_name": "Python 3",
   "language": "python",
   "name": "python3"
  },
  "language_info": {
   "codemirror_mode": {
    "name": "ipython",
    "version": 3
   },
   "file_extension": ".py",
   "mimetype": "text/x-python",
   "name": "python",
   "nbconvert_exporter": "python",
   "pygments_lexer": "ipython3",
   "version": "3.9.1"
  }
 },
 "nbformat": 4,
 "nbformat_minor": 5
}
